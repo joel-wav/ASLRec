{
 "cells": [
  {
   "cell_type": "code",
   "execution_count": 7,
   "metadata": {},
   "outputs": [],
   "source": [
    "import numpy as np\n",
    "import pandas as pd\n",
    "import matplotlib.pyplot as plt\n",
    "import csv, os\n",
    "\n",
    "import tensorflow as tf\n",
    "from tensorflow import keras\n",
    "\n",
    "from tensorflow.keras.layers import Dense, Conv2D, Flatten, MaxPool2D, BatchNormalization, Dropout\n",
    "from tensorflow.keras.models import Sequential\n",
    "from keras.callbacks import ModelCheckpoint"
   ]
  },
  {
   "cell_type": "code",
   "execution_count": 8,
   "metadata": {},
   "outputs": [
    {
     "name": "stdout",
     "output_type": "stream",
     "text": [
      "(27455,)\n",
      "(7172,)\n",
      "(27455, 28, 28, 1)\n",
      "(7172, 28, 28, 1)\n"
     ]
    }
   ],
   "source": [
    "#a little data preprocessing\n",
    "\n",
    "train = pd.read_csv(\"sign_mnist_train.csv\")\n",
    "test = pd.read_csv(\"sign_mnist_test.csv\")\n",
    "\n",
    "y_train = train['label']\n",
    "y_test = test['label']\n",
    "del train['label']\n",
    "del test['label']\n",
    "\n",
    "# convert to numpy rep for keras\n",
    "x_train = train.values\n",
    "x_test = test.values \n",
    "y_train = y_train.values\n",
    "y_test = y_test.values \n",
    "\n",
    "# normalization and change to gray scale\n",
    "x_train = x_train/255\n",
    "x_test = x_test/255\n",
    "\n",
    "# reshape \n",
    "x_train = x_train.reshape(-1,28,28,1)\n",
    "x_test = x_test.reshape(-1,28,28,1)\n",
    "\n",
    "print(y_train.shape)\n",
    "print(y_test.shape)\n",
    "print(x_train.shape)\n",
    "print(x_test.shape)\n"
   ]
  },
  {
   "cell_type": "code",
   "execution_count": 9,
   "metadata": {},
   "outputs": [
    {
     "name": "stdout",
     "output_type": "stream",
     "text": [
      "[ 0  1  2  3  4  5  6  7  8 10 11 12 13 14 15 16 17 18 19 20 21 22 23 24]\n"
     ]
    }
   ],
   "source": [
    "# find all unique labels: data for 9(J) and 25(Z) are missing\n",
    "labels = np.array(np.unique(y_test))\n",
    "numLabels = 24\n",
    "print(labels)\n",
    "\n",
    "# one hot encode the labels \n",
    "# for train set\n",
    "ohe_labels_train = np.zeros((len(y_train), numLabels))\n",
    "for i in range (len(y_train)):\n",
    "    ohe_labels_train[i] = np.where(labels == y_train[i], 1, 0)\n",
    "\n",
    "# for test set\n",
    "ohe_labels_test = np.zeros((len(y_test), numLabels))\n",
    "for i in range (len(y_test)):\n",
    "    ohe_labels_test[i] = np.where(labels == y_test[i], 1, 0)\n",
    "\n"
   ]
  },
  {
   "cell_type": "code",
   "execution_count": 10,
   "metadata": {},
   "outputs": [
    {
     "data": {
      "text/plain": [
       "<matplotlib.image.AxesImage at 0x174ac46f970>"
      ]
     },
     "execution_count": 10,
     "metadata": {},
     "output_type": "execute_result"
    },
    {
     "data": {
      "image/png": "[encoded data removed]",
      "text/plain": [
       "<Figure size 432x288 with 1 Axes>"
      ]
     },
     "metadata": {
      "needs_background": "light"
     },
     "output_type": "display_data"
    }
   ],
   "source": [
    "#plot an image \n",
    "plt.imshow(x_train[1], cmap = 'gray')"
   ]
  },
  {
   "cell_type": "code",
   "execution_count": 25,
   "metadata": {},
   "outputs": [
    {
     "name": "stdout",
     "output_type": "stream",
     "text": [
      "Model: \"sequential_5\"\n",
      "_________________________________________________________________\n",
      " Layer (type)                Output Shape              Param #   \n",
      "=================================================================\n",
      " conv2d_17 (Conv2D)          (None, 28, 28, 25)        250       \n",
      "                                                                 \n",
      " dropout_19 (Dropout)        (None, 28, 28, 25)        0         \n",
      "                                                                 \n",
      " max_pooling2d_17 (MaxPoolin  (None, 14, 14, 25)       0         \n",
      " g2D)                                                            \n",
      "                                                                 \n",
      " conv2d_18 (Conv2D)          (None, 14, 14, 25)        5650      \n",
      "                                                                 \n",
      " dropout_20 (Dropout)        (None, 14, 14, 25)        0         \n",
      "                                                                 \n",
      " max_pooling2d_18 (MaxPoolin  (None, 7, 7, 25)         0         \n",
      " g2D)                                                            \n",
      "                                                                 \n",
      " conv2d_19 (Conv2D)          (None, 7, 7, 25)          5650      \n",
      "                                                                 \n",
      " dropout_21 (Dropout)        (None, 7, 7, 25)          0         \n",
      "                                                                 \n",
      " max_pooling2d_19 (MaxPoolin  (None, 4, 4, 25)         0         \n",
      " g2D)                                                            \n",
      "                                                                 \n",
      " flatten_5 (Flatten)         (None, 400)               0         \n",
      "                                                                 \n",
      " dense_7 (Dense)             (None, 50)                20050     \n",
      "                                                                 \n",
      " batch_normalization (BatchN  (None, 50)               200       \n",
      " ormalization)                                                   \n",
      "                                                                 \n",
      " dense_8 (Dense)             (None, 24)                1224      \n",
      "                                                                 \n",
      "=================================================================\n",
      "Total params: 33,024\n",
      "Trainable params: 32,924\n",
      "Non-trainable params: 100\n",
      "_________________________________________________________________\n"
     ]
    }
   ],
   "source": [
    "# convolutional model\n",
    "img_rows = 28\n",
    "img_cols = 28\n",
    "\n",
    "model = Sequential()\n",
    "model.add(Conv2D(filters=25, kernel_size=3, padding='same', activation='relu', input_shape=(28,28,1)))\n",
    "model.add(Dropout(0.2))\n",
    "model.add(MaxPool2D((2,2), padding = 'same'))\n",
    "model.add(Conv2D(filters=25, kernel_size=3, padding='same', activation='relu', input_shape=(28,28,1)))\n",
    "model.add(Dropout(0.2))\n",
    "model.add(MaxPool2D((2,2), padding = 'same'))\n",
    "model.add(Conv2D(filters=25, kernel_size=3, padding='same', activation='relu', input_shape=(28,28,1)))\n",
    "model.add(Dropout(0.2))\n",
    "model.add(MaxPool2D((2,2), padding = 'same'))\n",
    "model.add(Flatten())\n",
    "model.add(Dense(50, activation='relu'))\n",
    "model.add(BatchNormalization())\n",
    "model.add(Dense(24, activation='softmax'))\n",
    "\n",
    "\n",
    "# compile model\n",
    "model.compile(optimizer='adam',loss='categorical_crossentropy',metrics=['accuracy'])\n",
    "\n",
    "model.summary()"
   ]
  },
  {
   "cell_type": "code",
   "execution_count": 26,
   "metadata": {},
   "outputs": [
    {
     "name": "stdout",
     "output_type": "stream",
     "text": [
      "Epoch 1/20\n",
      "687/687 [==============================] - 23s 31ms/step - loss: 1.3961 - accuracy: 0.6083 - val_loss: 0.7685 - val_accuracy: 0.8192\n",
      "Epoch 2/20\n",
      "687/687 [==============================] - 21s 31ms/step - loss: 0.2554 - accuracy: 0.9405 - val_loss: 0.2169 - val_accuracy: 0.9772\n",
      "Epoch 3/20\n",
      "687/687 [==============================] - 22s 32ms/step - loss: 0.0997 - accuracy: 0.9774 - val_loss: 0.1114 - val_accuracy: 0.9931\n",
      "Epoch 4/20\n",
      "687/687 [==============================] - 22s 32ms/step - loss: 0.0565 - accuracy: 0.9870 - val_loss: 0.0647 - val_accuracy: 0.9922\n",
      "Epoch 5/20\n",
      "687/687 [==============================] - 22s 31ms/step - loss: 0.0491 - accuracy: 0.9866 - val_loss: 0.0385 - val_accuracy: 0.9967\n",
      "Epoch 6/20\n",
      "687/687 [==============================] - 21s 31ms/step - loss: 0.0313 - accuracy: 0.9919 - val_loss: 0.0244 - val_accuracy: 0.9982\n",
      "Epoch 7/20\n",
      "687/687 [==============================] - 21s 31ms/step - loss: 0.0307 - accuracy: 0.9919 - val_loss: 0.0209 - val_accuracy: 0.9978\n",
      "Epoch 8/20\n",
      "687/687 [==============================] - 21s 31ms/step - loss: 0.0284 - accuracy: 0.9915 - val_loss: 0.0293 - val_accuracy: 0.9951\n",
      "Epoch 9/20\n",
      "687/687 [==============================] - 21s 31ms/step - loss: 0.0249 - accuracy: 0.9926 - val_loss: 0.0247 - val_accuracy: 0.9964\n",
      "Epoch 10/20\n",
      "687/687 [==============================] - 21s 31ms/step - loss: 0.0185 - accuracy: 0.9949 - val_loss: 0.0090 - val_accuracy: 0.9996\n",
      "Epoch 11/20\n",
      "687/687 [==============================] - 22s 32ms/step - loss: 0.0174 - accuracy: 0.9950 - val_loss: 0.0182 - val_accuracy: 0.9982\n",
      "Epoch 12/20\n",
      "687/687 [==============================] - 22s 31ms/step - loss: 0.0198 - accuracy: 0.9936 - val_loss: 0.0291 - val_accuracy: 0.9940\n",
      "Epoch 13/20\n",
      "687/687 [==============================] - 21s 31ms/step - loss: 0.0163 - accuracy: 0.9947 - val_loss: 0.0566 - val_accuracy: 0.9838\n",
      "Epoch 14/20\n",
      "687/687 [==============================] - 22s 31ms/step - loss: 0.0145 - accuracy: 0.9954 - val_loss: 0.0167 - val_accuracy: 0.9973\n",
      "Epoch 15/20\n",
      "687/687 [==============================] - 22s 32ms/step - loss: 0.0196 - accuracy: 0.9933 - val_loss: 0.0108 - val_accuracy: 0.9989\n",
      "Epoch 16/20\n",
      "687/687 [==============================] - 22s 32ms/step - loss: 0.0149 - accuracy: 0.9956 - val_loss: 0.0045 - val_accuracy: 0.9995\n",
      "Epoch 17/20\n",
      "687/687 [==============================] - 21s 31ms/step - loss: 0.0136 - accuracy: 0.9958 - val_loss: 0.0030 - val_accuracy: 1.0000\n",
      "Epoch 18/20\n",
      "687/687 [==============================] - 21s 30ms/step - loss: 0.0137 - accuracy: 0.9957 - val_loss: 0.0363 - val_accuracy: 0.9911\n",
      "Epoch 19/20\n",
      "687/687 [==============================] - 21s 30ms/step - loss: 0.0130 - accuracy: 0.9963 - val_loss: 0.0048 - val_accuracy: 1.0000\n",
      "Epoch 20/20\n",
      "687/687 [==============================] - 21s 30ms/step - loss: 0.0143 - accuracy: 0.9954 - val_loss: 0.0045 - val_accuracy: 0.9996\n"
     ]
    }
   ],
   "source": [
    "#train the model and save optimal parameters\n",
    "#checkpoint = ModelCheckpoint('weights.hdf5', monitor='val_loss', save_best_only='True')\n",
    "#callbacks_list = [checkpoint]\n",
    "\n",
    "training = model.fit(x_train, ohe_labels_train, validation_split=0.2, epochs=20) #callbacks=callbacks_list)"
   ]
  },
  {
   "cell_type": "code",
   "execution_count": 27,
   "metadata": {},
   "outputs": [
    {
     "data": {
      "image/png": "[encoded data removed]",
      "text/plain": [
       "<Figure size 432x288 with 1 Axes>"
      ]
     },
     "metadata": {
      "needs_background": "light"
     },
     "output_type": "display_data"
    }
   ],
   "source": [
    "plt.plot(training.history['loss'])\n",
    "plt.plot(training.history['val_loss'])\n",
    "plt.show()"
   ]
  },
  {
   "cell_type": "code",
   "execution_count": 28,
   "metadata": {},
   "outputs": [
    {
     "name": "stdout",
     "output_type": "stream",
     "text": [
      "Test accuracy: 0.9601227045059204\n"
     ]
    }
   ],
   "source": [
    "score = model.evaluate(x=x_test, y=ohe_labels_test, verbose=0)\n",
    "print('Test accuracy:', score[1])"
   ]
  }
 ],
 "metadata": {
  "interpreter": {
   "hash": "ac81dd28b25742b4a884ea6ee71296b40f33b9dfeca96ce2595bdd92274cb316"
  },
  "kernelspec": {
   "display_name": "Python 3.8.8 64-bit ('tfenv': venv)",
   "language": "python",
   "name": "python3"
  },
  "language_info": {
   "codemirror_mode": {
    "name": "ipython",
    "version": 3
   },
   "file_extension": ".py",
   "mimetype": "text/x-python",
   "name": "python",
   "nbconvert_exporter": "python",
   "pygments_lexer": "ipython3",
   "version": "3.8.8"
  },
  "orig_nbformat": 4
 },
 "nbformat": 4,
 "nbformat_minor": 2
}
