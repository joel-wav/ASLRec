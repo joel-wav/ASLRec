{
 "cells": [
  {
   "cell_type": "code",
   "execution_count": 6,
   "metadata": {},
   "outputs": [
    {
     "name": "stdout",
     "output_type": "stream",
     "text": [
      "c:\\Users\\joely\\Desktop\\MyFolders\\Projects\\ASLRec\n"
     ]
    }
   ],
   "source": [
    "import numpy as np\n",
    "import pandas as pd\n",
    "import matplotlib.pyplot as plt\n",
    "import csv, os\n",
    "\n",
    "import tensorflow as tf\n",
    "from tensorflow import keras\n",
    "\n",
    "from tensorflow.keras.layers import Dense, Conv2D, Flatten, MaxPool2D, BatchNormalization, Dropout\n",
    "from tensorflow.keras.models import Sequential\n",
    "from keras.callbacks import ModelCheckpoint\n",
    "\n",
    "print(os.getcwd())"
   ]
  },
  {
   "cell_type": "code",
   "execution_count": 7,
   "metadata": {},
   "outputs": [
    {
     "name": "stdout",
     "output_type": "stream",
     "text": [
      "(27455,)\n",
      "(7172,)\n",
      "(27455, 28, 28, 1)\n",
      "(7172, 28, 28, 1)\n"
     ]
    }
   ],
   "source": [
    "#a little data preprocessing\n",
    "\n",
    "train = pd.read_csv(\"sign_mnist_train.csv\")\n",
    "test = pd.read_csv(\"sign_mnist_test.csv\")\n",
    "\n",
    "y_train = train['label']\n",
    "y_test = test['label']\n",
    "del train['label']\n",
    "del test['label']\n",
    "\n",
    "# convert to numpy rep for keras\n",
    "x_train = train.values\n",
    "x_test = test.values \n",
    "y_train = y_train.values\n",
    "y_test = y_test.values \n",
    "\n",
    "# normalization and change to gray scale\n",
    "x_train = x_train/255\n",
    "x_test = x_test/255\n",
    "\n",
    "# reshape \n",
    "x_train = x_train.reshape(-1,28,28,1)\n",
    "x_test = x_test.reshape(-1,28,28,1)\n",
    "\n",
    "print(y_train.shape)\n",
    "print(y_test.shape)\n",
    "print(x_train.shape)\n",
    "print(x_test.shape)\n"
   ]
  },
  {
   "cell_type": "code",
   "execution_count": 8,
   "metadata": {},
   "outputs": [
    {
     "name": "stdout",
     "output_type": "stream",
     "text": [
      "[ 0  1  2  3  4  5  6  7  8 10 11 12 13 14 15 16 17 18 19 20 21 22 23 24]\n"
     ]
    }
   ],
   "source": [
    "# find all unique labels: data for 9(J) and 25(Z) are missing\n",
    "labels = np.array(np.unique(y_test))\n",
    "numLabels = 24\n",
    "print(labels)\n",
    "\n",
    "# one hot encode the labels \n",
    "# for train set\n",
    "ohe_labels_train = np.zeros((len(y_train), numLabels))\n",
    "for i in range (len(y_train)):\n",
    "    ohe_labels_train[i] = np.where(labels == y_train[i], 1, 0)\n",
    "\n",
    "# for test set\n",
    "ohe_labels_test = np.zeros((len(y_test), numLabels))\n",
    "for i in range (len(y_test)):\n",
    "    ohe_labels_test[i] = np.where(labels == y_test[i], 1, 0)\n",
    "\n"
   ]
  },
  {
   "cell_type": "code",
   "execution_count": 9,
   "metadata": {},
   "outputs": [
    {
     "data": {
      "text/plain": [
       "<matplotlib.image.AxesImage at 0x1fdf42a8070>"
      ]
     },
     "execution_count": 9,
     "metadata": {},
     "output_type": "execute_result"
    },
    {
     "data": {
      "image/png": "[encoded data removed]",
      "text/plain": [
       "<Figure size 432x288 with 1 Axes>"
      ]
     },
     "metadata": {
      "needs_background": "light"
     },
     "output_type": "display_data"
    }
   ],
   "source": [
    "#plot an image \n",
    "plt.imshow(x_train[1], cmap = 'gray')"
   ]
  },
  {
   "cell_type": "code",
   "execution_count": 33,
   "metadata": {},
   "outputs": [
    {
     "name": "stdout",
     "output_type": "stream",
     "text": [
      "Model: \"sequential_12\"\n",
      "_________________________________________________________________\n",
      " Layer (type)                Output Shape              Param #   \n",
      "=================================================================\n",
      " conv2d_48 (Conv2D)          (None, 28, 28, 25)        250       \n",
      "                                                                 \n",
      " batch_normalization_48 (Bat  (None, 28, 28, 25)       100       \n",
      " chNormalization)                                                \n",
      "                                                                 \n",
      " max_pooling2d_48 (MaxPoolin  (None, 14, 14, 25)       0         \n",
      " g2D)                                                            \n",
      "                                                                 \n",
      " conv2d_49 (Conv2D)          (None, 14, 14, 25)        5650      \n",
      "                                                                 \n",
      " batch_normalization_49 (Bat  (None, 14, 14, 25)       100       \n",
      " chNormalization)                                                \n",
      "                                                                 \n",
      " max_pooling2d_49 (MaxPoolin  (None, 7, 7, 25)         0         \n",
      " g2D)                                                            \n",
      "                                                                 \n",
      " conv2d_50 (Conv2D)          (None, 7, 7, 25)          5650      \n",
      "                                                                 \n",
      " batch_normalization_50 (Bat  (None, 7, 7, 25)         100       \n",
      " chNormalization)                                                \n",
      "                                                                 \n",
      " max_pooling2d_50 (MaxPoolin  (None, 4, 4, 25)         0         \n",
      " g2D)                                                            \n",
      "                                                                 \n",
      " conv2d_51 (Conv2D)          (None, 4, 4, 24)          5424      \n",
      "                                                                 \n",
      " batch_normalization_51 (Bat  (None, 4, 4, 24)         96        \n",
      " chNormalization)                                                \n",
      "                                                                 \n",
      " max_pooling2d_51 (MaxPoolin  (None, 2, 2, 24)         0         \n",
      " g2D)                                                            \n",
      "                                                                 \n",
      " flatten_12 (Flatten)        (None, 96)                0         \n",
      "                                                                 \n",
      " dense_12 (Dense)            (None, 24)                2328      \n",
      "                                                                 \n",
      "=================================================================\n",
      "Total params: 19,698\n",
      "Trainable params: 19,500\n",
      "Non-trainable params: 198\n",
      "_________________________________________________________________\n"
     ]
    }
   ],
   "source": [
    "# convolutional model\n",
    "img_rows = 28\n",
    "img_cols = 28\n",
    "\n",
    "model = Sequential()\n",
    "model.add(Conv2D(filters=25, kernel_size=3, padding='same', activation='relu', input_shape=(28,28,1)))\n",
    "model.add(BatchNormalization())\n",
    "model.add(MaxPool2D((2,2), padding = 'same'))\n",
    "model.add(Conv2D(filters=25, kernel_size=3, padding='same', activation='relu', input_shape=(28,28,1)))\n",
    "model.add(BatchNormalization())\n",
    "model.add(MaxPool2D((2,2), padding = 'same'))\n",
    "model.add(Conv2D(filters=25, kernel_size=3, padding='same', activation='relu', input_shape=(28,28,1)))\n",
    "model.add(BatchNormalization())\n",
    "model.add(MaxPool2D((2,2), padding = 'same'))\n",
    "model.add(Conv2D(filters=24, kernel_size=3, padding='same', activation='relu', input_shape=(28,28,1)))\n",
    "model.add(BatchNormalization())\n",
    "model.add(MaxPool2D((2,2), padding = 'same'))\n",
    "model.add(Flatten())\n",
    "model.add(Dense(24, activation='softmax'))\n",
    "\n",
    "\n",
    "# compile model\n",
    "model.compile(optimizer='adam',loss='categorical_crossentropy',metrics=['accuracy'])\n",
    "\n",
    "model.summary()"
   ]
  },
  {
   "cell_type": "code",
   "execution_count": 34,
   "metadata": {},
   "outputs": [
    {
     "name": "stdout",
     "output_type": "stream",
     "text": [
      "Epoch 1/10\n",
      "687/687 [==============================] - 25s 35ms/step - loss: 0.5826 - accuracy: 0.8483 - val_loss: 0.3094 - val_accuracy: 0.9151\n",
      "Epoch 2/10\n",
      "687/687 [==============================] - 24s 35ms/step - loss: 0.0162 - accuracy: 0.9996 - val_loss: 0.0165 - val_accuracy: 0.9985\n",
      "Epoch 3/10\n",
      "687/687 [==============================] - 24s 35ms/step - loss: 0.0041 - accuracy: 1.0000 - val_loss: 0.0034 - val_accuracy: 1.0000\n",
      "Epoch 4/10\n",
      "687/687 [==============================] - 24s 35ms/step - loss: 0.0365 - accuracy: 0.9900 - val_loss: 0.1251 - val_accuracy: 0.9559\n",
      "Epoch 5/10\n",
      "687/687 [==============================] - 24s 35ms/step - loss: 0.0086 - accuracy: 0.9984 - val_loss: 0.0012 - val_accuracy: 1.0000\n",
      "Epoch 6/10\n",
      "687/687 [==============================] - 24s 35ms/step - loss: 7.7224e-04 - accuracy: 1.0000 - val_loss: 5.6254e-04 - val_accuracy: 1.0000\n",
      "Epoch 7/10\n",
      "687/687 [==============================] - 24s 35ms/step - loss: 4.3663e-04 - accuracy: 1.0000 - val_loss: 3.8935e-04 - val_accuracy: 1.0000\n",
      "Epoch 8/10\n",
      "687/687 [==============================] - 24s 35ms/step - loss: 2.6543e-04 - accuracy: 1.0000 - val_loss: 2.8062e-04 - val_accuracy: 1.0000\n",
      "Epoch 9/10\n",
      "687/687 [==============================] - 24s 35ms/step - loss: 1.8114e-04 - accuracy: 1.0000 - val_loss: 2.1035e-04 - val_accuracy: 1.0000\n",
      "Epoch 10/10\n",
      "687/687 [==============================] - 24s 34ms/step - loss: 1.3695e-04 - accuracy: 1.0000 - val_loss: 1.4720e-04 - val_accuracy: 1.0000\n"
     ]
    }
   ],
   "source": [
    "#train the model and save optimal parameters\n",
    "checkpoint = ModelCheckpoint('weights.hdf5', monitor='val_loss', save_best_only='True')\n",
    "callbacks_list = [checkpoint]\n",
    "\n",
    "training = model.fit(x_train, ohe_labels_train, validation_split=0.2, epochs=10,callbacks=callbacks_list)"
   ]
  },
  {
   "cell_type": "code",
   "execution_count": 35,
   "metadata": {},
   "outputs": [
    {
     "data": {
      "image/png": "[encoded data removed]",
      "text/plain": [
       "<Figure size 432x288 with 1 Axes>"
      ]
     },
     "metadata": {
      "needs_background": "light"
     },
     "output_type": "display_data"
    }
   ],
   "source": [
    "plt.plot(training.history['loss'])\n",
    "plt.plot(training.history['val_loss'])\n",
    "plt.show()"
   ]
  },
  {
   "cell_type": "code",
   "execution_count": 38,
   "metadata": {},
   "outputs": [
    {
     "name": "stdout",
     "output_type": "stream",
     "text": [
      "Test accuracy: 0.9276352524757385\n"
     ]
    }
   ],
   "source": [
    "score = model.evaluate(x=x_test, y=ohe_labels_test, verbose=0)\n",
    "print('Test accuracy:', score[1])"
   ]
  }
 ],
 "metadata": {
  "interpreter": {
   "hash": "ac81dd28b25742b4a884ea6ee71296b40f33b9dfeca96ce2595bdd92274cb316"
  },
  "kernelspec": {
   "display_name": "Python 3.8.8 64-bit ('tfenv': venv)",
   "language": "python",
   "name": "python3"
  },
  "language_info": {
   "codemirror_mode": {
    "name": "ipython",
    "version": 3
   },
   "file_extension": ".py",
   "mimetype": "text/x-python",
   "name": "python",
   "nbconvert_exporter": "python",
   "pygments_lexer": "ipython3",
   "version": "3.8.8"
  },
  "orig_nbformat": 4
 },
 "nbformat": 4,
 "nbformat_minor": 2
}
